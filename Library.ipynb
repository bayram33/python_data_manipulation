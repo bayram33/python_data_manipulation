{
 "cells": [
  {
   "cell_type": "markdown",
   "id": "1449d7c6-1a95-4fe9-b105-0e462d6691d1",
   "metadata": {},
   "source": [
    "# MY LITTLE LIBRARY"
   ]
  },
  {
   "cell_type": "code",
   "execution_count": null,
   "id": "aa869865-ead1-4c13-91b0-1803ef0f8193",
   "metadata": {},
   "outputs": [],
   "source": [
    "! pip install ycimpute"
   ]
  },
  {
   "cell_type": "code",
   "execution_count": null,
   "id": "f8dda5d2-9d4f-42fe-b49c-5441995920b4",
   "metadata": {},
   "outputs": [],
   "source": [
    "# KÜTÜPHANELER\n",
    "import numpy as np \n",
    "import pandas as pd\n",
    "from ycimpute.imputer import knnimput\n",
    "from sklearn.neighbors import LocalOutlierFactor\n",
    "from sklearn.model_selection import train_test_split\n",
    "\n",
    "# VERİYİ OKUMA\n",
    "df=pd.read_csv(\"https://docs.google.com/spreadsheets/d/e/2PACX-1vSgiI-qGbZSnwxidVyKMBLOoHmZPK4L5mk17ckNNecCrOY4Mqx8CH4h_SojdIJJM4f3eWqD-PyQ34pS/pub?output=csv\")\n",
    "\n",
    "# STRİNGLERİ NUMERİC E ÇEVİRME \n",
    "df[\"Salary\"]=pd.to_numeric(df[\"Salary\"] , errors=\"coerce\")\n",
    "new_df=pd.get_dummies( df , [\"League\" , \"Division\" , \"NewLeague\"] , drop_first=True)\n",
    "\n",
    "# KNN ALGORİTMASI KULLANARAK EKSİK GÖZLEMLERİ DOLDURMA\n",
    "var_names=list(new_df)\n",
    "n_df=np.array(new_df)\n",
    "dff=knnimput.KNN().complete(n_df)\n",
    "dff=pd.DataFrame(dff , columns=var_names)\n",
    "\n",
    "# LOCALOUTLİERFACTOR KULLANARAK AYKIRI GÖZLEMLERİ AYIKLAMA \n",
    "clf=LocalOutlierFactor(n_neighbors=20 , contamination=0.1)\n",
    "clf.fit_predict(dff)\n",
    "df_score=clf.negative_outlier_factor_\n",
    "np.sort(df_score)\n",
    "esik_deger=np.sort(df_score)[13]\n",
    "last_df = dff[~(df_score < esik_deger)]\n",
    "\n",
    "# MODEL İ EĞİTECEĞİMİZ VERİLERİMİZ \n",
    "x=last_df.drop([\"Salary\"] , axis=1)\n",
    "y=last_df[\"Salary\"]\n",
    "\n",
    "# TRAİN VE TEST DİYE VERİMİZİ AYIRDIK \n",
    "x_train , x_test , y_train , y_test = train_test_split( x , y , test_size=0.33 , random_state=7)"
   ]
  }
 ],
 "metadata": {
  "kernelspec": {
   "display_name": "Python 3 (ipykernel)",
   "language": "python",
   "name": "python3"
  },
  "language_info": {
   "codemirror_mode": {
    "name": "ipython",
    "version": 3
   },
   "file_extension": ".py",
   "mimetype": "text/x-python",
   "name": "python",
   "nbconvert_exporter": "python",
   "pygments_lexer": "ipython3",
   "version": "3.9.12"
  }
 },
 "nbformat": 4,
 "nbformat_minor": 5
}
